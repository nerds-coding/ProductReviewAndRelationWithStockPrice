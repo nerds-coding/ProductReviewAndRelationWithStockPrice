{
 "cells": [
  {
   "cell_type": "code",
   "execution_count": 1,
   "metadata": {},
   "outputs": [],
   "source": [
    "from selenium import webdriver\n",
    "from selenium.webdriver.common.keys import Keys\n",
    "import time\n",
    "from bs4 import BeautifulSoup\n",
    "import pandas as pd"
   ]
  },
  {
   "cell_type": "code",
   "execution_count": 2,
   "metadata": {},
   "outputs": [],
   "source": [
    "slangsDF = pd.DataFrame(columns=['Abbreviation','FullForm'],index=[0])"
   ]
  },
  {
   "cell_type": "code",
   "execution_count": 3,
   "metadata": {},
   "outputs": [],
   "source": [
    "class ScrapingClass:\n",
    "\n",
    "    def __init__(self, url):\n",
    "\n",
    "        self.driver = webdriver.Firefox()\n",
    "        time.sleep(4)\n",
    "        self.driver.maximize_window()\n",
    "        self.driver.get(url)\n",
    "        time.sleep(6)\n",
    "        print(self.driver.title)\n",
    "        time.sleep(4)\n",
    "    \n",
    "    def extractingSlangs(self,pgSrc):\n",
    "        slangDiv = pgSrc.find_all('div',{'class':'dic-page'})\n",
    "        slangTable = slangDiv[0].find_all('div',{'class':'dictionary-word'})\n",
    "        for slang in slangTable:\n",
    "            slangsDF.loc[len(slangsDF)]= [slang.abbr.text.replace(':','') , slang.dd.text]\n",
    "    \n",
    "    def gettingAllSlangs(self):\n",
    "        letters = ['A','B','C','D','E','F','G','H','I','J','K',\n",
    "                    'L','M','N','O','P','Q','R','S','T','U','V','W','X','Y','Z']\n",
    "        for letter in letters:\n",
    "            time.sleep(4)\n",
    "            self.driver.find_element_by_link_text(str(letter)).click()\n",
    "            time.sleep(4)\n",
    "            ScrapingClass.extractingSlangs(self,BeautifulSoup(self.driver.page_source,'html.parser'))\n",
    "        self.driver.close()\n",
    "        "
   ]
  },
  {
   "cell_type": "code",
   "execution_count": 4,
   "metadata": {},
   "outputs": [
    {
     "name": "stdout",
     "output_type": "stream",
     "text": [
      "Text Slang Dictionary\n"
     ]
    }
   ],
   "source": [
    "url = 'https://www.noslang.com/dictionary/#/'\n",
    "\n",
    "sc = ScrapingClass(url)\n",
    "sc.gettingAllSlangs()"
   ]
  },
  {
   "cell_type": "code",
   "execution_count": 5,
   "metadata": {},
   "outputs": [
    {
     "ename": "NameError",
     "evalue": "name 'src' is not defined",
     "output_type": "error",
     "traceback": [
      "\u001b[0;31m---------------------------------------------------------------------------\u001b[0m",
      "\u001b[0;31mNameError\u001b[0m                                 Traceback (most recent call last)",
      "\u001b[0;32m<ipython-input-5-d4f2c644e7eb>\u001b[0m in \u001b[0;36m<module>\u001b[0;34m\u001b[0m\n\u001b[0;32m----> 1\u001b[0;31m \u001b[0mslangDiv\u001b[0m \u001b[0;34m=\u001b[0m \u001b[0msrc\u001b[0m\u001b[0;34m.\u001b[0m\u001b[0mfind_all\u001b[0m\u001b[0;34m(\u001b[0m\u001b[0;34m'div'\u001b[0m\u001b[0;34m,\u001b[0m\u001b[0;34m{\u001b[0m\u001b[0;34m'class'\u001b[0m\u001b[0;34m:\u001b[0m\u001b[0;34m'dic-page'\u001b[0m\u001b[0;34m}\u001b[0m\u001b[0;34m)\u001b[0m\u001b[0;34m\u001b[0m\u001b[0;34m\u001b[0m\u001b[0m\n\u001b[0m\u001b[1;32m      2\u001b[0m \u001b[0;34m\u001b[0m\u001b[0m\n\u001b[1;32m      3\u001b[0m \u001b[0mslangTable\u001b[0m \u001b[0;34m=\u001b[0m \u001b[0mslangDiv\u001b[0m\u001b[0;34m[\u001b[0m\u001b[0;36m0\u001b[0m\u001b[0;34m]\u001b[0m\u001b[0;34m.\u001b[0m\u001b[0mfind_all\u001b[0m\u001b[0;34m(\u001b[0m\u001b[0;34m'div'\u001b[0m\u001b[0;34m,\u001b[0m\u001b[0;34m{\u001b[0m\u001b[0;34m'class'\u001b[0m\u001b[0;34m:\u001b[0m\u001b[0;34m'dictionary-word'\u001b[0m\u001b[0;34m}\u001b[0m\u001b[0;34m)\u001b[0m\u001b[0;34m\u001b[0m\u001b[0;34m\u001b[0m\u001b[0m\n",
      "\u001b[0;31mNameError\u001b[0m: name 'src' is not defined"
     ]
    }
   ],
   "source": [
    "slangDiv = src.find_all('div',{'class':'dic-page'})\n",
    "\n",
    "slangTable = slangDiv[0].find_all('div',{'class':'dictionary-word'})"
   ]
  },
  {
   "cell_type": "code",
   "execution_count": null,
   "metadata": {},
   "outputs": [],
   "source": [
    "for slang in slangTable:\n",
    "    slangs[slang.abbr.text.replace(':','')] = slang.dd.text"
   ]
  },
  {
   "cell_type": "code",
   "execution_count": 6,
   "metadata": {},
   "outputs": [
    {
     "data": {
      "text/html": [
       "<div>\n",
       "<style scoped>\n",
       "    .dataframe tbody tr th:only-of-type {\n",
       "        vertical-align: middle;\n",
       "    }\n",
       "\n",
       "    .dataframe tbody tr th {\n",
       "        vertical-align: top;\n",
       "    }\n",
       "\n",
       "    .dataframe thead th {\n",
       "        text-align: right;\n",
       "    }\n",
       "</style>\n",
       "<table border=\"1\" class=\"dataframe\">\n",
       "  <thead>\n",
       "    <tr style=\"text-align: right;\">\n",
       "      <th></th>\n",
       "      <th>Abbreviation</th>\n",
       "      <th>FullForm</th>\n",
       "    </tr>\n",
       "  </thead>\n",
       "  <tbody>\n",
       "    <tr>\n",
       "      <th>0</th>\n",
       "      <td>NaN</td>\n",
       "      <td>NaN</td>\n",
       "    </tr>\n",
       "    <tr>\n",
       "      <th>1</th>\n",
       "      <td>a$$</td>\n",
       "      <td>ass</td>\n",
       "    </tr>\n",
       "    <tr>\n",
       "      <th>2</th>\n",
       "      <td>a&amp;f</td>\n",
       "      <td>always and forever</td>\n",
       "    </tr>\n",
       "    <tr>\n",
       "      <th>3</th>\n",
       "      <td>a'ight</td>\n",
       "      <td>alright</td>\n",
       "    </tr>\n",
       "    <tr>\n",
       "      <th>4</th>\n",
       "      <td>a.i.m.</td>\n",
       "      <td>aol instant messanger</td>\n",
       "    </tr>\n",
       "    <tr>\n",
       "      <th>...</th>\n",
       "      <td>...</td>\n",
       "      <td>...</td>\n",
       "    </tr>\n",
       "    <tr>\n",
       "      <th>5546</th>\n",
       "      <td>zomgzorrz</td>\n",
       "      <td>oh my god</td>\n",
       "    </tr>\n",
       "    <tr>\n",
       "      <th>5547</th>\n",
       "      <td>zoot</td>\n",
       "      <td>woohoo</td>\n",
       "    </tr>\n",
       "    <tr>\n",
       "      <th>5548</th>\n",
       "      <td>zot</td>\n",
       "      <td>Zero Tolerance</td>\n",
       "    </tr>\n",
       "    <tr>\n",
       "      <th>5549</th>\n",
       "      <td>zt</td>\n",
       "      <td>zoo tycoon</td>\n",
       "    </tr>\n",
       "    <tr>\n",
       "      <th>5550</th>\n",
       "      <td>zup</td>\n",
       "      <td>what's up?</td>\n",
       "    </tr>\n",
       "  </tbody>\n",
       "</table>\n",
       "<p>5551 rows × 2 columns</p>\n",
       "</div>"
      ],
      "text/plain": [
       "     Abbreviation               FullForm\n",
       "0             NaN                    NaN\n",
       "1            a$$                     ass\n",
       "2            a&f      always and forever\n",
       "3         a'ight                 alright\n",
       "4         a.i.m.   aol instant messanger\n",
       "...           ...                    ...\n",
       "5546   zomgzorrz               oh my god\n",
       "5547        zoot                  woohoo\n",
       "5548         zot          Zero Tolerance\n",
       "5549          zt              zoo tycoon\n",
       "5550         zup              what's up?\n",
       "\n",
       "[5551 rows x 2 columns]"
      ]
     },
     "execution_count": 6,
     "metadata": {},
     "output_type": "execute_result"
    }
   ],
   "source": [
    "slangsDF"
   ]
  },
  {
   "cell_type": "code",
   "execution_count": 7,
   "metadata": {},
   "outputs": [],
   "source": [
    "slangsDF.to_csv('/Users/anupprakash/Desktop/Review And Stock Price/FlipkartReviews/AllSlangs.csv')"
   ]
  },
  {
   "cell_type": "code",
   "execution_count": null,
   "metadata": {},
   "outputs": [],
   "source": []
  }
 ],
 "metadata": {
  "kernelspec": {
   "display_name": "Python 3",
   "language": "python",
   "name": "python3"
  },
  "language_info": {
   "codemirror_mode": {
    "name": "ipython",
    "version": 3
   },
   "file_extension": ".py",
   "mimetype": "text/x-python",
   "name": "python",
   "nbconvert_exporter": "python",
   "pygments_lexer": "ipython3",
   "version": "3.7.6"
  }
 },
 "nbformat": 4,
 "nbformat_minor": 4
}
