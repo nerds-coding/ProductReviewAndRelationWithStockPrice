{
  "nbformat": 4,
  "nbformat_minor": 0,
  "metadata": {
    "colab": {
      "name": "LDA and NMF",
      "provenance": []
    },
    "kernelspec": {
      "name": "python3",
      "display_name": "Python 3"
    }
  },
  "cells": [
    {
      "cell_type": "code",
      "metadata": {
        "id": "2Ts7aycQ4ME4",
        "colab_type": "code",
        "colab": {}
      },
      "source": [
        "import pandas as pd\n",
        "import numpy as np\n",
        "\n",
        "import seaborn as sns\n",
        "import matplotlib.pyplot as plt\n",
        "\n",
        "import plotly.express as px\n",
        "import plotly.graph_objs as go\n",
        "\n",
        "import warnings\n",
        "warnings.filterwarnings('ignore')\n",
        "\n",
        "from sklearn.feature_extraction.text import TfidfVectorizer\n",
        "from sklearn.decomposition import LatentDirichletAllocation,NMF"
      ],
      "execution_count": null,
      "outputs": []
    },
    {
      "cell_type": "code",
      "metadata": {
        "id": "Jy3XpFdH4dX1",
        "colab_type": "code",
        "colab": {}
      },
      "source": [
        "bottomCooker = pd.read_csv('/content/drive/My Drive/ColabDataset/SentimentAndStockStudy/PreProcessDataset/BottomPressureCooker.csv')\n",
        "gasStove = pd.read_csv(\"/content/drive/My Drive/ColabDataset/SentimentAndStockStudy/PreProcessDataset/GasStoveReview.csv\")\n",
        "juicerMixer = pd.read_csv(\"/content/drive/My Drive/ColabDataset/SentimentAndStockStudy/PreProcessDataset/JuicerMixerGrinderReviews.csv\")\n",
        "mixtureGrinder = pd.read_csv(\"/content/drive/My Drive/ColabDataset/SentimentAndStockStudy/PreProcessDataset/MixtureGrinderReview.csv\")\n",
        "rapidJar = pd.read_csv(\"/content/drive/My Drive/ColabDataset/SentimentAndStockStudy/PreProcessDataset/RapidJarJuicerMixerGrinderReviews.csv\")\n",
        "tawa = pd.read_csv(\"/content/drive/My Drive/ColabDataset/SentimentAndStockStudy/PreProcessDataset/TawaReview.csv\")\n",
        "\n",
        "butterflyMixer = pd.read_csv(\"/content/drive/My Drive/ColabDataset/SentimentAndStockStudy/PreProcessDataset/ButterFly_Mixer.csv\")\n",
        "butterflyCooker = pd.read_csv(\"/content/drive/My Drive/ColabDataset/SentimentAndStockStudy/PreProcessDataset/Butterfly_Cooker.csv\")\n",
        "butterflyKettle = pd.read_csv(\"/content/drive/My Drive/ColabDataset/SentimentAndStockStudy/PreProcessDataset/Butterfly_Kettle.csv\")\n",
        "butterflyStove = pd.read_csv(\"/content/drive/My Drive/ColabDataset/SentimentAndStockStudy/PreProcessDataset/Butterfly_Stove.csv\")"
      ],
      "execution_count": null,
      "outputs": []
    },
    {
      "cell_type": "code",
      "metadata": {
        "id": "mCaKV0Pz-MlW",
        "colab_type": "code",
        "colab": {}
      },
      "source": [
        "allReviews = bottomCooker\n",
        "\n",
        "allReviews = allReviews.append(gasStove,ignore_index=True)\n",
        "\n",
        "allReviews = allReviews.append(mixtureGrinder,ignore_index=True)\n",
        "\n",
        "allReviews = allReviews.append(rapidJar,ignore_index=True)\n",
        "\n",
        "allReviews = allReviews.append(tawa,ignore_index=True)\n",
        "\n",
        "allReviews = allReviews.append(butterflyMixer,ignore_index=True)\n",
        "\n",
        "allReviews = allReviews.append(butterflyCooker,ignore_index=True)\n",
        "\n",
        "allReviews = allReviews.append(butterflyKettle,ignore_index=True)\n",
        "\n",
        "allReviews = allReviews.append(butterflyStove,ignore_index=True)"
      ],
      "execution_count": null,
      "outputs": []
    },
    {
      "cell_type": "code",
      "metadata": {
        "id": "QzxAktDyAKjd",
        "colab_type": "code",
        "colab": {
          "base_uri": "https://localhost:8080/",
          "height": 1000
        },
        "outputId": "3efdd7b7-f300-45a5-8cad-07ceec72b9d7"
      },
      "source": [
        "allReviews.head(10)"
      ],
      "execution_count": null,
      "outputs": [
        {
          "output_type": "execute_result",
          "data": {
            "text/html": [
              "<div>\n",
              "<style scoped>\n",
              "    .dataframe tbody tr th:only-of-type {\n",
              "        vertical-align: middle;\n",
              "    }\n",
              "\n",
              "    .dataframe tbody tr th {\n",
              "        vertical-align: top;\n",
              "    }\n",
              "\n",
              "    .dataframe thead th {\n",
              "        text-align: right;\n",
              "    }\n",
              "</style>\n",
              "<table border=\"1\" class=\"dataframe\">\n",
              "  <thead>\n",
              "    <tr style=\"text-align: right;\">\n",
              "      <th></th>\n",
              "      <th>User Rating</th>\n",
              "      <th>User Review</th>\n",
              "      <th>User Name</th>\n",
              "      <th>Review Date</th>\n",
              "      <th>DateOfReview</th>\n",
              "      <th>FinalText</th>\n",
              "      <th>FinalTextSentimentNegative</th>\n",
              "      <th>FinalTextSentimentPositive</th>\n",
              "      <th>FinalTextSentimentNeutral</th>\n",
              "      <th>FinalTextSentimentCompound</th>\n",
              "      <th>FinalTextSentiment</th>\n",
              "      <th>UserReviewSentimentNegative</th>\n",
              "      <th>UserReviewSentimentPositive</th>\n",
              "      <th>UserReviewSentimentNeutral</th>\n",
              "      <th>UserReviewSentimentCompound</th>\n",
              "      <th>UserReviewSentiment</th>\n",
              "    </tr>\n",
              "  </thead>\n",
              "  <tbody>\n",
              "    <tr>\n",
              "      <th>0</th>\n",
              "      <td>5.0</td>\n",
              "      <td>I have quite impressed with the amazing qualit...</td>\n",
              "      <td>Sushant Chaulkar</td>\n",
              "      <td>Jun, 2019</td>\n",
              "      <td>2019-06-03</td>\n",
              "      <td>I quite impress amazing quality pressure cooke...</td>\n",
              "      <td>0.121</td>\n",
              "      <td>0.440</td>\n",
              "      <td>0.439</td>\n",
              "      <td>0.9236</td>\n",
              "      <td>pos</td>\n",
              "      <td>0.053</td>\n",
              "      <td>0.276</td>\n",
              "      <td>0.670</td>\n",
              "      <td>0.9430</td>\n",
              "      <td>pos</td>\n",
              "    </tr>\n",
              "    <tr>\n",
              "      <th>1</th>\n",
              "      <td>5.0</td>\n",
              "      <td>Youre Delivery from Flipkart not 5   I will gi...</td>\n",
              "      <td>Patrick Michael</td>\n",
              "      <td>5months ago</td>\n",
              "      <td>2020-03-03</td>\n",
              "      <td>Youre Delivery Flipkart 5 I give 100 Butter fl...</td>\n",
              "      <td>0.000</td>\n",
              "      <td>0.440</td>\n",
              "      <td>0.560</td>\n",
              "      <td>0.8957</td>\n",
              "      <td>pos</td>\n",
              "      <td>0.000</td>\n",
              "      <td>0.289</td>\n",
              "      <td>0.711</td>\n",
              "      <td>0.8957</td>\n",
              "      <td>pos</td>\n",
              "    </tr>\n",
              "    <tr>\n",
              "      <th>2</th>\n",
              "      <td>4.0</td>\n",
              "      <td>this price is very best for this product and a...</td>\n",
              "      <td>chetan singh</td>\n",
              "      <td>7months ago</td>\n",
              "      <td>2020-01-03</td>\n",
              "      <td>price best product valuable company trust good</td>\n",
              "      <td>0.000</td>\n",
              "      <td>0.818</td>\n",
              "      <td>0.182</td>\n",
              "      <td>0.9260</td>\n",
              "      <td>pos</td>\n",
              "      <td>0.000</td>\n",
              "      <td>0.520</td>\n",
              "      <td>0.480</td>\n",
              "      <td>0.9335</td>\n",
              "      <td>pos</td>\n",
              "    </tr>\n",
              "    <tr>\n",
              "      <th>3</th>\n",
              "      <td>4.0</td>\n",
              "      <td>it is very nice product so I am happy and exci...</td>\n",
              "      <td>Lokanath Patra</td>\n",
              "      <td>Jan, 2019</td>\n",
              "      <td>2019-01-03</td>\n",
              "      <td>nice product I happy excite price thank Flipkart</td>\n",
              "      <td>0.000</td>\n",
              "      <td>0.752</td>\n",
              "      <td>0.248</td>\n",
              "      <td>0.9022</td>\n",
              "      <td>pos</td>\n",
              "      <td>0.000</td>\n",
              "      <td>0.479</td>\n",
              "      <td>0.521</td>\n",
              "      <td>0.8991</td>\n",
              "      <td>pos</td>\n",
              "    </tr>\n",
              "    <tr>\n",
              "      <th>4</th>\n",
              "      <td>5.0</td>\n",
              "      <td>Nice product. Worth of writing a review. Excel...</td>\n",
              "      <td>Sultan Mustafijul Hoque</td>\n",
              "      <td>Nov, 2018</td>\n",
              "      <td>2018-11-03</td>\n",
              "      <td>Nice product Worth write review Excellent deli...</td>\n",
              "      <td>0.000</td>\n",
              "      <td>0.548</td>\n",
              "      <td>0.452</td>\n",
              "      <td>0.8720</td>\n",
              "      <td>pos</td>\n",
              "      <td>0.000</td>\n",
              "      <td>0.456</td>\n",
              "      <td>0.544</td>\n",
              "      <td>0.8720</td>\n",
              "      <td>pos</td>\n",
              "    </tr>\n",
              "    <tr>\n",
              "      <th>5</th>\n",
              "      <td>5.0</td>\n",
              "      <td>super good work I like that is</td>\n",
              "      <td>Flipkart Customer</td>\n",
              "      <td>10months ago</td>\n",
              "      <td>2019-10-03</td>\n",
              "      <td>super good work I like</td>\n",
              "      <td>0.000</td>\n",
              "      <td>0.823</td>\n",
              "      <td>0.177</td>\n",
              "      <td>0.8519</td>\n",
              "      <td>pos</td>\n",
              "      <td>0.000</td>\n",
              "      <td>0.699</td>\n",
              "      <td>0.301</td>\n",
              "      <td>0.8519</td>\n",
              "      <td>pos</td>\n",
              "    </tr>\n",
              "    <tr>\n",
              "      <th>6</th>\n",
              "      <td>4.0</td>\n",
              "      <td>i bought this to my wife.. she felt very happy...</td>\n",
              "      <td>Nagaraj  Govindaraj</td>\n",
              "      <td>7months ago</td>\n",
              "      <td>2020-01-03</td>\n",
              "      <td>buy wife felt happy since cooker handy nice</td>\n",
              "      <td>0.000</td>\n",
              "      <td>0.520</td>\n",
              "      <td>0.480</td>\n",
              "      <td>0.7579</td>\n",
              "      <td>pos</td>\n",
              "      <td>0.000</td>\n",
              "      <td>0.312</td>\n",
              "      <td>0.688</td>\n",
              "      <td>0.7778</td>\n",
              "      <td>pos</td>\n",
              "    </tr>\n",
              "    <tr>\n",
              "      <th>7</th>\n",
              "      <td>5.0</td>\n",
              "      <td>good product worth for money pack is also good...</td>\n",
              "      <td>Flipkart Customer</td>\n",
              "      <td>8months ago</td>\n",
              "      <td>2019-12-03</td>\n",
              "      <td>good product worth money pack also good time d...</td>\n",
              "      <td>0.000</td>\n",
              "      <td>0.598</td>\n",
              "      <td>0.402</td>\n",
              "      <td>0.8979</td>\n",
              "      <td>pos</td>\n",
              "      <td>0.000</td>\n",
              "      <td>0.498</td>\n",
              "      <td>0.502</td>\n",
              "      <td>0.8979</td>\n",
              "      <td>pos</td>\n",
              "    </tr>\n",
              "    <tr>\n",
              "      <th>8</th>\n",
              "      <td>4.0</td>\n",
              "      <td>very nice super product but no SI mark improve...</td>\n",
              "      <td>Ganesh Rk</td>\n",
              "      <td>8months ago</td>\n",
              "      <td>2019-12-03</td>\n",
              "      <td>nice super product SI mark improve quality pac...</td>\n",
              "      <td>0.103</td>\n",
              "      <td>0.658</td>\n",
              "      <td>0.240</td>\n",
              "      <td>0.9531</td>\n",
              "      <td>pos</td>\n",
              "      <td>0.144</td>\n",
              "      <td>0.535</td>\n",
              "      <td>0.322</td>\n",
              "      <td>0.9413</td>\n",
              "      <td>pos</td>\n",
              "    </tr>\n",
              "    <tr>\n",
              "      <th>9</th>\n",
              "      <td>5.0</td>\n",
              "      <td>Good Cooker, I have been using it from 4 month...</td>\n",
              "      <td>Pankaj Tiwari</td>\n",
              "      <td>8months ago</td>\n",
              "      <td>2019-12-03</td>\n",
              "      <td>Good Cooker I use 4 month It good easy clean</td>\n",
              "      <td>0.000</td>\n",
              "      <td>0.655</td>\n",
              "      <td>0.345</td>\n",
              "      <td>0.8860</td>\n",
              "      <td>pos</td>\n",
              "      <td>0.000</td>\n",
              "      <td>0.487</td>\n",
              "      <td>0.513</td>\n",
              "      <td>0.8860</td>\n",
              "      <td>pos</td>\n",
              "    </tr>\n",
              "  </tbody>\n",
              "</table>\n",
              "</div>"
            ],
            "text/plain": [
              "   User Rating  ... UserReviewSentiment\n",
              "0          5.0  ...                 pos\n",
              "1          5.0  ...                 pos\n",
              "2          4.0  ...                 pos\n",
              "3          4.0  ...                 pos\n",
              "4          5.0  ...                 pos\n",
              "5          5.0  ...                 pos\n",
              "6          4.0  ...                 pos\n",
              "7          5.0  ...                 pos\n",
              "8          4.0  ...                 pos\n",
              "9          5.0  ...                 pos\n",
              "\n",
              "[10 rows x 16 columns]"
            ]
          },
          "metadata": {
            "tags": []
          },
          "execution_count": 4
        }
      ]
    },
    {
      "cell_type": "code",
      "metadata": {
        "id": "GF6NO1XzALiP",
        "colab_type": "code",
        "colab": {}
      },
      "source": [
        "tf = TfidfVectorizer(min_df=2, max_df=0.95,lowercase=True,ngram_range=(1,1),stop_words='english')"
      ],
      "execution_count": null,
      "outputs": []
    },
    {
      "cell_type": "code",
      "metadata": {
        "id": "Cp4nzFQlDBaS",
        "colab_type": "code",
        "colab": {}
      },
      "source": [
        "dtm = tf.fit_transform(allReviews['FinalText'].values.astype('U'))"
      ],
      "execution_count": null,
      "outputs": []
    },
    {
      "cell_type": "code",
      "metadata": {
        "id": "fmV0ayLDDGfD",
        "colab_type": "code",
        "colab": {
          "base_uri": "https://localhost:8080/",
          "height": 35
        },
        "outputId": "124cb00d-8105-4c2f-b864-7f533ffea099"
      },
      "source": [
        "dtm.toarray().shape"
      ],
      "execution_count": null,
      "outputs": [
        {
          "output_type": "execute_result",
          "data": {
            "text/plain": [
              "(13398, 1228)"
            ]
          },
          "metadata": {
            "tags": []
          },
          "execution_count": 7
        }
      ]
    },
    {
      "cell_type": "code",
      "metadata": {
        "id": "iG1_HwFhDwAW",
        "colab_type": "code",
        "colab": {}
      },
      "source": [
        "lda = LatentDirichletAllocation(n_components=3,random_state=4)"
      ],
      "execution_count": null,
      "outputs": []
    },
    {
      "cell_type": "code",
      "metadata": {
        "id": "s3hrW2SwD0uX",
        "colab_type": "code",
        "colab": {
          "base_uri": "https://localhost:8080/",
          "height": 140
        },
        "outputId": "e21b8ced-ac37-4351-d29c-2d1d817da805"
      },
      "source": [
        "lda.fit(dtm)"
      ],
      "execution_count": null,
      "outputs": [
        {
          "output_type": "execute_result",
          "data": {
            "text/plain": [
              "LatentDirichletAllocation(batch_size=128, doc_topic_prior=None,\n",
              "                          evaluate_every=-1, learning_decay=0.7,\n",
              "                          learning_method='batch', learning_offset=10.0,\n",
              "                          max_doc_update_iter=100, max_iter=10,\n",
              "                          mean_change_tol=0.001, n_components=3, n_jobs=None,\n",
              "                          perp_tol=0.1, random_state=4, topic_word_prior=None,\n",
              "                          total_samples=1000000.0, verbose=0)"
            ]
          },
          "metadata": {
            "tags": []
          },
          "execution_count": 9
        }
      ]
    },
    {
      "cell_type": "code",
      "metadata": {
        "id": "KSYs0rnzEjCK",
        "colab_type": "code",
        "colab": {
          "base_uri": "https://localhost:8080/",
          "height": 37
        },
        "outputId": "3f731136-f713-46f9-bc1b-7dd3ba96fda4"
      },
      "source": [
        "tf.get_feature_names()[109]"
      ],
      "execution_count": null,
      "outputs": [
        {
          "output_type": "execute_result",
          "data": {
            "application/vnd.google.colaboratory.intrinsic+json": {
              "type": "string"
            },
            "text/plain": [
              "'awsome'"
            ]
          },
          "metadata": {
            "tags": []
          },
          "execution_count": 10
        }
      ]
    },
    {
      "cell_type": "code",
      "metadata": {
        "id": "GWl9DabhE0hQ",
        "colab_type": "code",
        "colab": {
          "base_uri": "https://localhost:8080/",
          "height": 35
        },
        "outputId": "2f2efdaf-2d4a-4e7f-8d45-477bca9d88d7"
      },
      "source": [
        "lda.components_.shape"
      ],
      "execution_count": null,
      "outputs": [
        {
          "output_type": "execute_result",
          "data": {
            "text/plain": [
              "(3, 1228)"
            ]
          },
          "metadata": {
            "tags": []
          },
          "execution_count": 11
        }
      ]
    },
    {
      "cell_type": "code",
      "metadata": {
        "id": "MdwZcjs5FZ4O",
        "colab_type": "code",
        "colab": {}
      },
      "source": [
        "singletopic = lda.components_[0]"
      ],
      "execution_count": null,
      "outputs": []
    },
    {
      "cell_type": "code",
      "metadata": {
        "id": "HeGI0rs7GQ4y",
        "colab_type": "code",
        "colab": {}
      },
      "source": [
        "topic1 = singletopic.argsort()[-20:]"
      ],
      "execution_count": null,
      "outputs": []
    },
    {
      "cell_type": "code",
      "metadata": {
        "id": "OTDvmn6rGXnJ",
        "colab_type": "code",
        "colab": {
          "base_uri": "https://localhost:8080/",
          "height": 369
        },
        "outputId": "c21d95f3-1d08-46ba-b383-f03ecacd89e7"
      },
      "source": [
        "for j in topic1:\n",
        "  print(tf.get_feature_names()[j])"
      ],
      "execution_count": null,
      "outputs": [
        {
          "output_type": "stream",
          "text": [
            "item\n",
            "butterfly\n",
            "tipcart\n",
            "good\n",
            "bad\n",
            "mixer\n",
            "small\n",
            "delivery\n",
            "happy\n",
            "thanks\n",
            "nice\n",
            "cooker\n",
            "expect\n",
            "use\n",
            "useful\n",
            "work\n",
            "product\n",
            "thank\n",
            "excellent\n",
            "flipkart\n"
          ],
          "name": "stdout"
        }
      ]
    },
    {
      "cell_type": "code",
      "metadata": {
        "id": "WL13E80cHFFu",
        "colab_type": "code",
        "colab": {
          "base_uri": "https://localhost:8080/",
          "height": 228
        },
        "outputId": "f2cf1098-d795-4668-f244-c73e41317475"
      },
      "source": [
        "for i,topic in enumerate(lda.components_):\n",
        "  print(f\"Topic {i}\")\n",
        "  print([tf.get_feature_names()[index] for index in topic.argsort()[-10:]])\n",
        "  print()\n",
        "  print()"
      ],
      "execution_count": null,
      "outputs": [
        {
          "output_type": "stream",
          "text": [
            "Topic 0\n",
            "['nice', 'cooker', 'expect', 'use', 'useful', 'work', 'product', 'thank', 'excellent', 'flipkart']\n",
            "\n",
            "\n",
            "Topic 1\n",
            "['buy', 'good', 'ok', 'just', 'worth', 'okay', 'gd', 'best', 'price', 'quality']\n",
            "\n",
            "\n",
            "Topic 2\n",
            "['kettle', 'money', 'fine', 'value', 'superb', 'fast', 'super', 'nice', 'product', 'good']\n",
            "\n",
            "\n"
          ],
          "name": "stdout"
        }
      ]
    },
    {
      "cell_type": "code",
      "metadata": {
        "id": "SyW-fXTFIG3v",
        "colab_type": "code",
        "colab": {}
      },
      "source": [
        "topic_result = lda.transform(dtm) "
      ],
      "execution_count": null,
      "outputs": []
    },
    {
      "cell_type": "code",
      "metadata": {
        "id": "VP5kkltn9_tH",
        "colab_type": "code",
        "colab": {}
      },
      "source": [
        "#Topic 0 = Quality\n",
        "# 1 = Subjective Review\n",
        "# 2 = Value for money"
      ],
      "execution_count": null,
      "outputs": []
    },
    {
      "cell_type": "code",
      "metadata": {
        "id": "BWCtHHfGJmEP",
        "colab_type": "code",
        "colab": {
          "base_uri": "https://localhost:8080/",
          "height": 35
        },
        "outputId": "f7eca6d0-010d-4fdb-8f48-e3451e94d8bc"
      },
      "source": [
        "topic_result[-2]"
      ],
      "execution_count": null,
      "outputs": [
        {
          "output_type": "execute_result",
          "data": {
            "text/plain": [
              "array([0.16672492, 0.16672197, 0.66655311])"
            ]
          },
          "metadata": {
            "tags": []
          },
          "execution_count": 24
        }
      ]
    },
    {
      "cell_type": "code",
      "metadata": {
        "id": "KYqfDx-xJ2k_",
        "colab_type": "code",
        "colab": {}
      },
      "source": [
        "nmf = NMF(n_components=3,random_state=3)"
      ],
      "execution_count": null,
      "outputs": []
    },
    {
      "cell_type": "code",
      "metadata": {
        "id": "chkhQKGo_D3g",
        "colab_type": "code",
        "colab": {
          "base_uri": "https://localhost:8080/",
          "height": 70
        },
        "outputId": "8f788a61-0e57-4edf-b3d5-44054815382b"
      },
      "source": [
        "nmf.fit(dtm)"
      ],
      "execution_count": null,
      "outputs": [
        {
          "output_type": "execute_result",
          "data": {
            "text/plain": [
              "NMF(alpha=0.0, beta_loss='frobenius', init=None, l1_ratio=0.0, max_iter=200,\n",
              "    n_components=3, random_state=3, shuffle=False, solver='cd', tol=0.0001,\n",
              "    verbose=0)"
            ]
          },
          "metadata": {
            "tags": []
          },
          "execution_count": 40
        }
      ]
    },
    {
      "cell_type": "code",
      "metadata": {
        "id": "B3unr7Io_HmE",
        "colab_type": "code",
        "colab": {
          "base_uri": "https://localhost:8080/",
          "height": 35
        },
        "outputId": "f8215501-fcc1-40bf-92c4-326fb8bc4450"
      },
      "source": [
        "nmf.components_.shape"
      ],
      "execution_count": null,
      "outputs": [
        {
          "output_type": "execute_result",
          "data": {
            "text/plain": [
              "(3, 1228)"
            ]
          },
          "metadata": {
            "tags": []
          },
          "execution_count": 41
        }
      ]
    },
    {
      "cell_type": "code",
      "metadata": {
        "id": "JzPEvQoQ_M4P",
        "colab_type": "code",
        "colab": {
          "base_uri": "https://localhost:8080/",
          "height": 248
        },
        "outputId": "81e01ddf-a8aa-432a-ceea-eaff32453d28"
      },
      "source": [
        "for i,topic in enumerate(nmf.components_):\n",
        "  print(f\"Topic {i}\")\n",
        "  print([tf.get_feature_names()[index] for index in topic.argsort()[-15:]])\n",
        "  print()\n",
        "  print()"
      ],
      "execution_count": null,
      "outputs": [
        {
          "output_type": "stream",
          "text": [
            "Topic 0\n",
            "['item', 'mixer', 'look', 'delivery', 'expect', 'use', 'product', 'working', 'work', 'price', 'cooker', 'fast', 'kettle', 'quality', 'good']\n",
            "\n",
            "\n",
            "Topic 1\n",
            "['working', 'worth', 'product', 'cooker', 'look', 'reached', 'deliveryquality', 'goodthanqu', 'tipcart', 'mixer', 'like', 'flipkart', 'thank', 'quality', 'nice']\n",
            "\n",
            "\n",
            "Topic 2\n",
            "['best', 'excellent', 'expect', 'use', 'price', 'heat', 'awesome', 'fast', 'work', 'superb', 'thank', 'flipkart', 'fine', 'super', 'product']\n",
            "\n",
            "\n"
          ],
          "name": "stdout"
        }
      ]
    },
    {
      "cell_type": "code",
      "metadata": {
        "id": "rzwzIEh7_5pr",
        "colab_type": "code",
        "colab": {}
      },
      "source": [
        "topic_nmf = nmf.transform(dtm)"
      ],
      "execution_count": null,
      "outputs": []
    },
    {
      "cell_type": "code",
      "metadata": {
        "id": "l28WmS6XAzyX",
        "colab_type": "code",
        "colab": {}
      },
      "source": [
        "allReviews['Topic']  = topic_nmf.argmax(axis=1)"
      ],
      "execution_count": null,
      "outputs": []
    },
    {
      "cell_type": "code",
      "metadata": {
        "id": "DIaDz66WDJiM",
        "colab_type": "code",
        "colab": {}
      },
      "source": [
        "labelTopic = {0:'Overall Good Product',\n",
        " 1:'Quality',\n",
        " 2:'Value for Money'}\n",
        "\n",
        "allReviews['TopicLabel'] = allReviews['Topic'].map(labelTopic)"
      ],
      "execution_count": null,
      "outputs": []
    },
    {
      "cell_type": "code",
      "metadata": {
        "id": "itTGaG1NCD2o",
        "colab_type": "code",
        "colab": {
          "base_uri": "https://localhost:8080/",
          "height": 1000
        },
        "outputId": "67f1ed3a-cdf1-4448-de69-18afeeccd6f0"
      },
      "source": [
        "allReviews.head(10)"
      ],
      "execution_count": null,
      "outputs": [
        {
          "output_type": "execute_result",
          "data": {
            "text/html": [
              "<div>\n",
              "<style scoped>\n",
              "    .dataframe tbody tr th:only-of-type {\n",
              "        vertical-align: middle;\n",
              "    }\n",
              "\n",
              "    .dataframe tbody tr th {\n",
              "        vertical-align: top;\n",
              "    }\n",
              "\n",
              "    .dataframe thead th {\n",
              "        text-align: right;\n",
              "    }\n",
              "</style>\n",
              "<table border=\"1\" class=\"dataframe\">\n",
              "  <thead>\n",
              "    <tr style=\"text-align: right;\">\n",
              "      <th></th>\n",
              "      <th>User Rating</th>\n",
              "      <th>User Review</th>\n",
              "      <th>User Name</th>\n",
              "      <th>Review Date</th>\n",
              "      <th>DateOfReview</th>\n",
              "      <th>FinalText</th>\n",
              "      <th>FinalTextSentimentNegative</th>\n",
              "      <th>FinalTextSentimentPositive</th>\n",
              "      <th>FinalTextSentimentNeutral</th>\n",
              "      <th>FinalTextSentimentCompound</th>\n",
              "      <th>FinalTextSentiment</th>\n",
              "      <th>UserReviewSentimentNegative</th>\n",
              "      <th>UserReviewSentimentPositive</th>\n",
              "      <th>UserReviewSentimentNeutral</th>\n",
              "      <th>UserReviewSentimentCompound</th>\n",
              "      <th>UserReviewSentiment</th>\n",
              "      <th>Topic</th>\n",
              "      <th>TopicLabel</th>\n",
              "    </tr>\n",
              "  </thead>\n",
              "  <tbody>\n",
              "    <tr>\n",
              "      <th>0</th>\n",
              "      <td>5.0</td>\n",
              "      <td>I have quite impressed with the amazing qualit...</td>\n",
              "      <td>Sushant Chaulkar</td>\n",
              "      <td>Jun, 2019</td>\n",
              "      <td>2019-06-03</td>\n",
              "      <td>I quite impress amazing quality pressure cooke...</td>\n",
              "      <td>0.121</td>\n",
              "      <td>0.440</td>\n",
              "      <td>0.439</td>\n",
              "      <td>0.9236</td>\n",
              "      <td>pos</td>\n",
              "      <td>0.053</td>\n",
              "      <td>0.276</td>\n",
              "      <td>0.670</td>\n",
              "      <td>0.9430</td>\n",
              "      <td>pos</td>\n",
              "      <td>2</td>\n",
              "      <td>Value for Money</td>\n",
              "    </tr>\n",
              "    <tr>\n",
              "      <th>1</th>\n",
              "      <td>5.0</td>\n",
              "      <td>Youre Delivery from Flipkart not 5   I will gi...</td>\n",
              "      <td>Patrick Michael</td>\n",
              "      <td>5months ago</td>\n",
              "      <td>2020-03-03</td>\n",
              "      <td>Youre Delivery Flipkart 5 I give 100 Butter fl...</td>\n",
              "      <td>0.000</td>\n",
              "      <td>0.440</td>\n",
              "      <td>0.560</td>\n",
              "      <td>0.8957</td>\n",
              "      <td>pos</td>\n",
              "      <td>0.000</td>\n",
              "      <td>0.289</td>\n",
              "      <td>0.711</td>\n",
              "      <td>0.8957</td>\n",
              "      <td>pos</td>\n",
              "      <td>2</td>\n",
              "      <td>Value for Money</td>\n",
              "    </tr>\n",
              "    <tr>\n",
              "      <th>2</th>\n",
              "      <td>4.0</td>\n",
              "      <td>this price is very best for this product and a...</td>\n",
              "      <td>chetan singh</td>\n",
              "      <td>7months ago</td>\n",
              "      <td>2020-01-03</td>\n",
              "      <td>price best product valuable company trust good</td>\n",
              "      <td>0.000</td>\n",
              "      <td>0.818</td>\n",
              "      <td>0.182</td>\n",
              "      <td>0.9260</td>\n",
              "      <td>pos</td>\n",
              "      <td>0.000</td>\n",
              "      <td>0.520</td>\n",
              "      <td>0.480</td>\n",
              "      <td>0.9335</td>\n",
              "      <td>pos</td>\n",
              "      <td>2</td>\n",
              "      <td>Value for Money</td>\n",
              "    </tr>\n",
              "    <tr>\n",
              "      <th>3</th>\n",
              "      <td>4.0</td>\n",
              "      <td>it is very nice product so I am happy and exci...</td>\n",
              "      <td>Lokanath Patra</td>\n",
              "      <td>Jan, 2019</td>\n",
              "      <td>2019-01-03</td>\n",
              "      <td>nice product I happy excite price thank Flipkart</td>\n",
              "      <td>0.000</td>\n",
              "      <td>0.752</td>\n",
              "      <td>0.248</td>\n",
              "      <td>0.9022</td>\n",
              "      <td>pos</td>\n",
              "      <td>0.000</td>\n",
              "      <td>0.479</td>\n",
              "      <td>0.521</td>\n",
              "      <td>0.8991</td>\n",
              "      <td>pos</td>\n",
              "      <td>1</td>\n",
              "      <td>Quality</td>\n",
              "    </tr>\n",
              "    <tr>\n",
              "      <th>4</th>\n",
              "      <td>5.0</td>\n",
              "      <td>Nice product. Worth of writing a review. Excel...</td>\n",
              "      <td>Sultan Mustafijul Hoque</td>\n",
              "      <td>Nov, 2018</td>\n",
              "      <td>2018-11-03</td>\n",
              "      <td>Nice product Worth write review Excellent deli...</td>\n",
              "      <td>0.000</td>\n",
              "      <td>0.548</td>\n",
              "      <td>0.452</td>\n",
              "      <td>0.8720</td>\n",
              "      <td>pos</td>\n",
              "      <td>0.000</td>\n",
              "      <td>0.456</td>\n",
              "      <td>0.544</td>\n",
              "      <td>0.8720</td>\n",
              "      <td>pos</td>\n",
              "      <td>1</td>\n",
              "      <td>Quality</td>\n",
              "    </tr>\n",
              "    <tr>\n",
              "      <th>5</th>\n",
              "      <td>5.0</td>\n",
              "      <td>super good work I like that is</td>\n",
              "      <td>Flipkart Customer</td>\n",
              "      <td>10months ago</td>\n",
              "      <td>2019-10-03</td>\n",
              "      <td>super good work I like</td>\n",
              "      <td>0.000</td>\n",
              "      <td>0.823</td>\n",
              "      <td>0.177</td>\n",
              "      <td>0.8519</td>\n",
              "      <td>pos</td>\n",
              "      <td>0.000</td>\n",
              "      <td>0.699</td>\n",
              "      <td>0.301</td>\n",
              "      <td>0.8519</td>\n",
              "      <td>pos</td>\n",
              "      <td>0</td>\n",
              "      <td>Overall Good Product</td>\n",
              "    </tr>\n",
              "    <tr>\n",
              "      <th>6</th>\n",
              "      <td>4.0</td>\n",
              "      <td>i bought this to my wife.. she felt very happy...</td>\n",
              "      <td>Nagaraj  Govindaraj</td>\n",
              "      <td>7months ago</td>\n",
              "      <td>2020-01-03</td>\n",
              "      <td>buy wife felt happy since cooker handy nice</td>\n",
              "      <td>0.000</td>\n",
              "      <td>0.520</td>\n",
              "      <td>0.480</td>\n",
              "      <td>0.7579</td>\n",
              "      <td>pos</td>\n",
              "      <td>0.000</td>\n",
              "      <td>0.312</td>\n",
              "      <td>0.688</td>\n",
              "      <td>0.7778</td>\n",
              "      <td>pos</td>\n",
              "      <td>1</td>\n",
              "      <td>Quality</td>\n",
              "    </tr>\n",
              "    <tr>\n",
              "      <th>7</th>\n",
              "      <td>5.0</td>\n",
              "      <td>good product worth for money pack is also good...</td>\n",
              "      <td>Flipkart Customer</td>\n",
              "      <td>8months ago</td>\n",
              "      <td>2019-12-03</td>\n",
              "      <td>good product worth money pack also good time d...</td>\n",
              "      <td>0.000</td>\n",
              "      <td>0.598</td>\n",
              "      <td>0.402</td>\n",
              "      <td>0.8979</td>\n",
              "      <td>pos</td>\n",
              "      <td>0.000</td>\n",
              "      <td>0.498</td>\n",
              "      <td>0.502</td>\n",
              "      <td>0.8979</td>\n",
              "      <td>pos</td>\n",
              "      <td>2</td>\n",
              "      <td>Value for Money</td>\n",
              "    </tr>\n",
              "    <tr>\n",
              "      <th>8</th>\n",
              "      <td>4.0</td>\n",
              "      <td>very nice super product but no SI mark improve...</td>\n",
              "      <td>Ganesh Rk</td>\n",
              "      <td>8months ago</td>\n",
              "      <td>2019-12-03</td>\n",
              "      <td>nice super product SI mark improve quality pac...</td>\n",
              "      <td>0.103</td>\n",
              "      <td>0.658</td>\n",
              "      <td>0.240</td>\n",
              "      <td>0.9531</td>\n",
              "      <td>pos</td>\n",
              "      <td>0.144</td>\n",
              "      <td>0.535</td>\n",
              "      <td>0.322</td>\n",
              "      <td>0.9413</td>\n",
              "      <td>pos</td>\n",
              "      <td>1</td>\n",
              "      <td>Quality</td>\n",
              "    </tr>\n",
              "    <tr>\n",
              "      <th>9</th>\n",
              "      <td>5.0</td>\n",
              "      <td>Good Cooker, I have been using it from 4 month...</td>\n",
              "      <td>Pankaj Tiwari</td>\n",
              "      <td>8months ago</td>\n",
              "      <td>2019-12-03</td>\n",
              "      <td>Good Cooker I use 4 month It good easy clean</td>\n",
              "      <td>0.000</td>\n",
              "      <td>0.655</td>\n",
              "      <td>0.345</td>\n",
              "      <td>0.8860</td>\n",
              "      <td>pos</td>\n",
              "      <td>0.000</td>\n",
              "      <td>0.487</td>\n",
              "      <td>0.513</td>\n",
              "      <td>0.8860</td>\n",
              "      <td>pos</td>\n",
              "      <td>0</td>\n",
              "      <td>Overall Good Product</td>\n",
              "    </tr>\n",
              "  </tbody>\n",
              "</table>\n",
              "</div>"
            ],
            "text/plain": [
              "   User Rating  ...            TopicLabel\n",
              "0          5.0  ...       Value for Money\n",
              "1          5.0  ...       Value for Money\n",
              "2          4.0  ...       Value for Money\n",
              "3          4.0  ...               Quality\n",
              "4          5.0  ...               Quality\n",
              "5          5.0  ...  Overall Good Product\n",
              "6          4.0  ...               Quality\n",
              "7          5.0  ...       Value for Money\n",
              "8          4.0  ...               Quality\n",
              "9          5.0  ...  Overall Good Product\n",
              "\n",
              "[10 rows x 18 columns]"
            ]
          },
          "metadata": {
            "tags": []
          },
          "execution_count": 77
        }
      ]
    },
    {
      "cell_type": "code",
      "metadata": {
        "id": "3zr2R471EKsr",
        "colab_type": "code",
        "colab": {}
      },
      "source": [
        "allReviews.to_csv('/content/drive/My Drive/ColabDataset/SentimentAndStockStudy/PreProcessDataset/AllReviews.csv',index=False)"
      ],
      "execution_count": null,
      "outputs": []
    },
    {
      "cell_type": "code",
      "metadata": {
        "id": "Sw5veNQ2FAeL",
        "colab_type": "code",
        "colab": {}
      },
      "source": [
        ""
      ],
      "execution_count": null,
      "outputs": []
    }
  ]
}