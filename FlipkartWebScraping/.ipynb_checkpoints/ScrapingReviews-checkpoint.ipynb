{
 "cells": [
  {
   "cell_type": "code",
   "execution_count": 1,
   "metadata": {},
   "outputs": [],
   "source": [
    "from selenium import webdriver\n",
    "from selenium.webdriver.common.keys import Keys\n",
    "import time\n",
    "from bs4 import BeautifulSoup"
   ]
  },
  {
   "cell_type": "code",
   "execution_count": 100,
   "metadata": {},
   "outputs": [],
   "source": [
    "class ScrapingClass:\n",
    "\n",
    "    def __init__(self, url):\n",
    "\n",
    "        self.driver = webdriver.Firefox()\n",
    "        time.sleep(6)\n",
    "        self.driver.maximize_window()\n",
    "        self.driver.get(url)\n",
    "        time.sleep(4)\n",
    "        print(self.driver.title)\n",
    "\n",
    "    def takingProductSpecs(self):\n",
    "        time.sleep(4)\n",
    "        self.driver.execute_script(\"window.scrollTo(0, document.body.scrollHeight);\")\n",
    "        time.sleep(10)\n",
    "\n",
    "        try:\n",
    "            self.driver.find_element_by_class_name(\"_2AkmmAuSQV49\").click()\n",
    "            time.sleep(10)\n",
    "        except(Exception)as e:\n",
    "            print(e)\n",
    "        else:\n",
    "            productPage = BeautifulSoup(self.driver.page_source, 'html.parser')\n",
    "        finally:\n",
    "            self.driver.close()\n",
    "\n",
    "        return productPage.find_all('div', {'class': '_2RngUh'})"
   ]
  },
  {
   "cell_type": "code",
   "execution_count": 101,
   "metadata": {},
   "outputs": [
    {
     "name": "stdout",
     "output_type": "stream",
     "text": [
      "Butterfly Rapid Omni Tawa 250 MM Induction Base Tawa 25 cm diameter Price in India - Buy Butterfly Rapid Omni Tawa 250 MM Induction Base Tawa 25 cm diameter online at Flipkart.com\n",
      "Message: Unable to locate element: ._2AkmmA uSQV49\n",
      "\n"
     ]
    },
    {
     "ename": "UnboundLocalError",
     "evalue": "local variable 'productPage' referenced before assignment",
     "output_type": "error",
     "traceback": [
      "\u001b[0;31m---------------------------------------------------------------------------\u001b[0m",
      "\u001b[0;31mUnboundLocalError\u001b[0m                         Traceback (most recent call last)",
      "\u001b[0;32m<ipython-input-101-bb7fa1ce8e5c>\u001b[0m in \u001b[0;36m<module>\u001b[0;34m\u001b[0m\n\u001b[1;32m      2\u001b[0m \u001b[0mproductUrl\u001b[0m \u001b[0;34m=\u001b[0m \u001b[0;34m'https://www.flipkart.com/butterfly-rapid-omni-tawa-250-mm-induction-base-25-cm-diameter/p/itmea2f8c85e1b2b'\u001b[0m\u001b[0;34m\u001b[0m\u001b[0;34m\u001b[0m\u001b[0m\n\u001b[1;32m      3\u001b[0m \u001b[0msc\u001b[0m \u001b[0;34m=\u001b[0m \u001b[0mScrapingClass\u001b[0m\u001b[0;34m(\u001b[0m\u001b[0mproductUrl\u001b[0m\u001b[0;34m)\u001b[0m\u001b[0;34m\u001b[0m\u001b[0;34m\u001b[0m\u001b[0m\n\u001b[0;32m----> 4\u001b[0;31m \u001b[0mspecs\u001b[0m \u001b[0;34m=\u001b[0m \u001b[0msc\u001b[0m\u001b[0;34m.\u001b[0m\u001b[0mtakingProductSpecs\u001b[0m\u001b[0;34m(\u001b[0m\u001b[0;34m)\u001b[0m\u001b[0;34m\u001b[0m\u001b[0;34m\u001b[0m\u001b[0m\n\u001b[0m",
      "\u001b[0;32m<ipython-input-100-df1238604cc9>\u001b[0m in \u001b[0;36mtakingProductSpecs\u001b[0;34m(self)\u001b[0m\n\u001b[1;32m     25\u001b[0m             \u001b[0mself\u001b[0m\u001b[0;34m.\u001b[0m\u001b[0mdriver\u001b[0m\u001b[0;34m.\u001b[0m\u001b[0mclose\u001b[0m\u001b[0;34m(\u001b[0m\u001b[0;34m)\u001b[0m\u001b[0;34m\u001b[0m\u001b[0;34m\u001b[0m\u001b[0m\n\u001b[1;32m     26\u001b[0m \u001b[0;34m\u001b[0m\u001b[0m\n\u001b[0;32m---> 27\u001b[0;31m         \u001b[0;32mreturn\u001b[0m \u001b[0mproductPage\u001b[0m\u001b[0;34m.\u001b[0m\u001b[0mfind_all\u001b[0m\u001b[0;34m(\u001b[0m\u001b[0;34m'div'\u001b[0m\u001b[0;34m,\u001b[0m \u001b[0;34m{\u001b[0m\u001b[0;34m'class'\u001b[0m\u001b[0;34m:\u001b[0m \u001b[0;34m'_2RngUh'\u001b[0m\u001b[0;34m}\u001b[0m\u001b[0;34m)\u001b[0m\u001b[0;34m\u001b[0m\u001b[0;34m\u001b[0m\u001b[0m\n\u001b[0m",
      "\u001b[0;31mUnboundLocalError\u001b[0m: local variable 'productPage' referenced before assignment"
     ]
    }
   ],
   "source": [
    "#productUrl = 'https://www.flipkart.com/butterfly-arrow-500-w-mixer-grinder/p/itm1bbddbef243c6?pid=MIXFC7C7G8UFXWN6&fm=organic&ppt=dynamic&ppn=dynamic&ssid=ppmudjqh02ofz7k01595756255064'\n",
    "productUrl = 'https://www.flipkart.com/butterfly-rapid-omni-tawa-250-mm-induction-base-25-cm-diameter/p/itmea2f8c85e1b2b'\n",
    "sc = ScrapingClass(productUrl)\n",
    "specs = sc.takingProductSpecs()"
   ]
  },
  {
   "cell_type": "code",
   "execution_count": null,
   "metadata": {},
   "outputs": [],
   "source": [
    "all_specs = []\n",
    "\n",
    "for spec in specs:\n",
    "    cate = spec.find('div',{'class':'_2lzn0o'})\n",
    "    specifications_table = spec.find('table')\n",
    "    specs_rows = specifications_table.tbody.find_all('tr')\n",
    "    specs1 = {x.td.text:x.li.text for x in specs_rows}\n",
    "    \n",
    "    all_specs.append({cate.text:specs1})\n",
    "    \n",
    "    \n",
    "    print(cate.text)\n",
    "    print(specs1)\n",
    "    print()\n",
    "\n",
    "print(all_specs)"
   ]
  },
  {
   "cell_type": "code",
   "execution_count": 22,
   "metadata": {},
   "outputs": [
    {
     "data": {
      "text/plain": [
       "[<div class=\"_2RngUh\"><div class=\"_2lzn0o\">General</div><table class=\"_3ENrHu\"><tbody><tr class=\"_3_6Uyw row\"><td class=\"_3-wDH3 col col-3-12\">Sales Package</td><td class=\"_2k4JXJ col col-9-12\"><ul><li class=\"_3YhLQA\">1 Big jar with lid, 1 Chutney jar with Lid, 1 Mixer Unit, 1 Medium jar with lid, 1 Spatula and 1 User manual with Warranty Card.</li></ul></td></tr><tr class=\"_3_6Uyw row\"><td class=\"_3-wDH3 col col-3-12\">Power Required</td><td class=\"_2k4JXJ col col-9-12\"><ul><li class=\"_3YhLQA\">AC 220 - 240 V, 50 Hz</li></ul></td></tr><tr class=\"_3_6Uyw row\"><td class=\"_3-wDH3 col col-3-12\">Auto Switch Off</td><td class=\"_2k4JXJ col col-9-12\"><ul><li class=\"_3YhLQA\">Yes</li></ul></td></tr><tr class=\"_3_6Uyw row\"><td class=\"_3-wDH3 col col-3-12\">Locking System</td><td class=\"_2k4JXJ col col-9-12\"><ul><li class=\"_3YhLQA\">Yes</li></ul></td></tr><tr class=\"_3_6Uyw row\"><td class=\"_3-wDH3 col col-3-12\">Material</td><td class=\"_2k4JXJ col col-9-12\"><ul><li class=\"_3YhLQA\">ABS Body and Stainless Steel Jars</li></ul></td></tr><tr class=\"_3_6Uyw row\"><td class=\"_3-wDH3 col col-3-12\">Non-slip Feet</td><td class=\"_2k4JXJ col col-9-12\"><ul><li class=\"_3YhLQA\">Yes</li></ul></td></tr><tr class=\"_3_6Uyw row\"><td class=\"_3-wDH3 col col-3-12\">Seed Collector</td><td class=\"_2k4JXJ col col-9-12\"><ul><li class=\"_3YhLQA\">No</li></ul></td></tr><tr class=\"_3_6Uyw row\"><td class=\"_3-wDH3 col col-3-12\">Dry Grinding</td><td class=\"_2k4JXJ col col-9-12\"><ul><li class=\"_3YhLQA\">Yes</li></ul></td></tr><tr class=\"_3_6Uyw row\"><td class=\"_3-wDH3 col col-3-12\">Blending</td><td class=\"_2k4JXJ col col-9-12\"><ul><li class=\"_3YhLQA\">Yes</li></ul></td></tr><tr class=\"_3_6Uyw row\"><td class=\"_3-wDH3 col col-3-12\">Grating</td><td class=\"_2k4JXJ col col-9-12\"><ul><li class=\"_3YhLQA\">Yes</li></ul></td></tr><tr class=\"_3_6Uyw row\"><td class=\"_3-wDH3 col col-3-12\">Mincing</td><td class=\"_2k4JXJ col col-9-12\"><ul><li class=\"_3YhLQA\">Yes</li></ul></td></tr><tr class=\"_3_6Uyw row\"><td class=\"_3-wDH3 col col-3-12\">Chutney Grinding</td><td class=\"_2k4JXJ col col-9-12\"><ul><li class=\"_3YhLQA\">Yes</li></ul></td></tr><tr class=\"_3_6Uyw row\"><td class=\"_3-wDH3 col col-3-12\">Grinding Jar Capacity</td><td class=\"_2k4JXJ col col-9-12\"><ul><li class=\"_3YhLQA\">1 L</li></ul></td></tr><tr class=\"_3_6Uyw row\"><td class=\"_3-wDH3 col col-3-12\">Liquidizing Jar Capacity</td><td class=\"_2k4JXJ col col-9-12\"><ul><li class=\"_3YhLQA\">1.5 L</li></ul></td></tr><tr class=\"_3_6Uyw row\"><td class=\"_3-wDH3 col col-3-12\">Chutney Jar Capacity</td><td class=\"_2k4JXJ col col-9-12\"><ul><li class=\"_3YhLQA\">0.4 L</li></ul></td></tr><tr class=\"_3_6Uyw row\"><td class=\"_3-wDH3 col col-3-12\">Juice Extractor Jar Capacity</td><td class=\"_2k4JXJ col col-9-12\"><ul><li class=\"_3YhLQA\">0</li></ul></td></tr><tr class=\"_3_6Uyw row\"><td class=\"_3-wDH3 col col-3-12\">Weight</td><td class=\"_2k4JXJ col col-9-12\"><ul><li class=\"_3YhLQA\">3.5 kg</li></ul></td></tr></tbody></table></div>,\n",
       " <div class=\"_2RngUh\"><div class=\"_2lzn0o\">Warranty</div><table class=\"_3ENrHu\"><tbody><tr class=\"_3_6Uyw row\"><td class=\"_3-wDH3 col col-3-12\">Warranty Summary</td><td class=\"_2k4JXJ col col-9-12\"><ul><li class=\"_3YhLQA\">1 year limited domestic brand warranty on product and 2 year limited domestic brand warranty on moto</li></ul></td></tr><tr class=\"_3_6Uyw row\"><td class=\"_3-wDH3 col col-3-12\">Warranty Service Type</td><td class=\"_2k4JXJ col col-9-12\"><ul><li class=\"_3YhLQA\">Customer Needs to Call the Customer Care on 9362-01-9362 to Register the Complaints and Take the Product to the Nearby Authorized Service Center and Get the Service Done</li></ul></td></tr><tr class=\"_3_6Uyw row\"><td class=\"_3-wDH3 col col-3-12\">Covered in Warranty</td><td class=\"_2k4JXJ col col-9-12\"><ul><li class=\"_3YhLQA\">Warranty will Cover Only Manufacturing Defects and Does Not Cover Damages Resulting From Un-authorized Adaptations</li></ul></td></tr><tr class=\"_3_6Uyw row\"><td class=\"_3-wDH3 col col-3-12\">Not Covered in Warranty</td><td class=\"_2k4JXJ col col-9-12\"><ul><li class=\"_3YhLQA\">Warranty Does Not Cover Damage Caused to the Product Due to Improper Installation by Customer, Normal Wear and Tear Caused Due to Use of Product</li></ul></td></tr><tr class=\"_3_6Uyw row\"><td class=\"_3-wDH3 col col-3-12\">Domestic Warranty</td><td class=\"_2k4JXJ col col-9-12\"><ul><li class=\"_3YhLQA\">1 Year</li></ul></td></tr></tbody></table></div>]"
      ]
     },
     "execution_count": 22,
     "metadata": {},
     "output_type": "execute_result"
    }
   ],
   "source": [
    "specs"
   ]
  },
  {
   "cell_type": "code",
   "execution_count": null,
   "metadata": {},
   "outputs": [],
   "source": []
  }
 ],
 "metadata": {
  "kernelspec": {
   "display_name": "Python 3",
   "language": "python",
   "name": "python3"
  },
  "language_info": {
   "codemirror_mode": {
    "name": "ipython",
    "version": 3
   },
   "file_extension": ".py",
   "mimetype": "text/x-python",
   "name": "python",
   "nbconvert_exporter": "python",
   "pygments_lexer": "ipython3",
   "version": "3.7.6"
  }
 },
 "nbformat": 4,
 "nbformat_minor": 4
}
